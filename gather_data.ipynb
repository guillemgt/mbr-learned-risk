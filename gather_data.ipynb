{
  "nbformat": 4,
  "nbformat_minor": 0,
  "metadata": {
    "colab": {
      "provenance": []
    },
    "kernelspec": {
      "name": "python3",
      "display_name": "Python 3"
    },
    "language_info": {
      "name": "python"
    }
  },
  "cells": [
    {
      "cell_type": "markdown",
      "source": [
        "# Data collection"
      ],
      "metadata": {
        "id": "nkAhFTYpaxma"
      }
    },
    {
      "cell_type": "markdown",
      "source": [
        "## Set-up"
      ],
      "metadata": {
        "id": "1OEeDs2ybjkb"
      }
    },
    {
      "cell_type": "code",
      "source": [
        "DATA_DIR = \"data\""
      ],
      "metadata": {
        "id": "PiN-sa1c0MBd"
      },
      "execution_count": null,
      "outputs": []
    },
    {
      "cell_type": "code",
      "source": [
        "try:\n",
        "    import google.colab\n",
        "    from google.colab import drive\n",
        "    drive.mount('/content/drive')\n",
        "    FULL_DATA_DIR = f'/content/drive/My Drive/mbr-reranking/{DATA_DIR}'\n",
        "\n",
        "    IN_COLAB = True\n",
        "except:\n",
        "    FULL_DATA_DIR = DATA_DIR\n",
        "\n",
        "    IN_COLAB = False"
      ],
      "metadata": {
        "id": "HkGkI_7moLYB"
      },
      "execution_count": null,
      "outputs": []
    },
    {
      "cell_type": "code",
      "execution_count": null,
      "metadata": {
        "id": "9Gb-31a0jC6o"
      },
      "outputs": [],
      "source": [
        "!pip install mtdata\n",
        "!pip install --upgrade requests"
      ]
    },
    {
      "cell_type": "markdown",
      "source": [
        "## Download the dataset"
      ],
      "metadata": {
        "id": "X4VEqShsbqLU"
      }
    },
    {
      "cell_type": "markdown",
      "source": [
        "Download the recipe:"
      ],
      "metadata": {
        "id": "eXJrWmPwbv-N"
      }
    },
    {
      "cell_type": "code",
      "source": [
        "!wget https://www.statmt.org/wmt22/mtdata/mtdata.recipes.wmt22-constrained.yml"
      ],
      "metadata": {
        "id": "SFvdmfg0jGSD"
      },
      "execution_count": null,
      "outputs": []
    },
    {
      "cell_type": "markdown",
      "source": [
        "Modify the recipe to not include all sources (some are very large):"
      ],
      "metadata": {
        "id": "JhukYWembzTB"
      }
    },
    {
      "cell_type": "code",
      "source": [
        "import yaml\n",
        "\n",
        "recipe_file = 'mtdata.recipes.wmt22-constrained.yml'\n",
        "\n",
        "with open(recipe_file, 'r') as file:\n",
        "    recipes = yaml.safe_load(file)\n",
        "\n",
        "good_recipe = yaml.safe_load('''\n",
        "dev:\n",
        "  - Statmt-newstest_deen-2020-deu-eng\n",
        "  - Statmt-newstest_ende-2020-eng-deu\n",
        "test:\n",
        "  - Statmt-newstest_deen-2021-deu-eng\n",
        "  - Statmt-newstest_ende-2021-eng-deu\n",
        "train:\n",
        "  #- Statmt-europarl-10-deu-eng\n",
        "  #- ParaCrawl-paracrawl-9-eng-deu\n",
        "  # - Statmt-commoncrawl_wmt13-1-deu-eng\n",
        "  - Statmt-news_commentary-16-deu-eng\n",
        "  #- Statmt-wikititles-3-deu-eng\n",
        "  #- Facebook-wikimatrix-1-deu-eng\n",
        "  #- Tilde-eesc-2017-deu-eng\n",
        "  # - Tilde-ema-2016-deu-eng\n",
        "  - Tilde-airbaltic-1-deu-eng\n",
        "  - Tilde-czechtourism-1-deu-eng\n",
        "  - Tilde-ecb-2017-deu-eng\n",
        "  #- Tilde-rapid-2016-deu-eng\n",
        "  - Tilde-rapid-2019-deu-eng\n",
        "''')\n",
        "\n",
        "for recipe in recipes:\n",
        "    if recipe['id'] != 'wmt22-deen':\n",
        "        continue\n",
        "    for split in good_recipe:\n",
        "        recipe[split] = good_recipe[split]\n",
        "\n",
        "with open(recipe_file, 'w') as file:\n",
        "    yaml.safe_dump(recipes, file)"
      ],
      "metadata": {
        "id": "XnLp05OHpeQ6"
      },
      "execution_count": null,
      "outputs": []
    },
    {
      "cell_type": "markdown",
      "source": [
        "Download the dataset:"
      ],
      "metadata": {
        "id": "-4CTscjZb4mD"
      }
    },
    {
      "cell_type": "code",
      "source": [
        "%%time\n",
        "%%sh\n",
        "mtdata -pb get-recipe -ri wmt22-deen -o wmt22-deen"
      ],
      "metadata": {
        "id": "FtsGfD0HjIp8"
      },
      "execution_count": null,
      "outputs": []
    },
    {
      "cell_type": "markdown",
      "source": [
        "Copy into the data path:"
      ],
      "metadata": {
        "id": "ThcrZhtVb7Pd"
      }
    },
    {
      "cell_type": "code",
      "source": [
        "!mkdir -p \"{FULL_DATA_DIR}\"\n",
        "!cp wmt22-deen/train.deu \"{FULL_DATA_DIR}\"\n",
        "!cp wmt22-deen/train.eng \"{FULL_DATA_DIR}\"\n",
        "!cp wmt22-deen/dev.deu \"{FULL_DATA_DIR}/test.deu\"\n",
        "!cp wmt22-deen/dev.eng \"{FULL_DATA_DIR}/test.eng\""
      ],
      "metadata": {
        "id": "L3BlsPEpcJYY"
      },
      "execution_count": null,
      "outputs": []
    },
    {
      "cell_type": "markdown",
      "source": [
        "## Create the different splits"
      ],
      "metadata": {
        "id": "eG-dNm5xcBLx"
      }
    },
    {
      "cell_type": "code",
      "source": [
        "train_sentences_src = []\n",
        "train_sentences_dst = []\n",
        "with open(f\"{FULL_DATA_DIR}/train.eng\", 'r', encoding=\"utf8\") as fp:\n",
        "    for line in fp:\n",
        "        train_sentences_src.append(line.strip())\n",
        "\n",
        "with open(f\"{FULL_DATA_DIR}/train.deu\", 'r', encoding=\"utf8\") as fp:\n",
        "    for line in fp:\n",
        "        train_sentences_dst.append(line.strip())\n",
        "\n",
        "assert len(train_sentences_src) == len(train_sentences_dst)"
      ],
      "metadata": {
        "id": "nTlhMPK9sl1i"
      },
      "execution_count": null,
      "outputs": []
    },
    {
      "cell_type": "code",
      "source": [
        "# Subsample training data\n",
        "\n",
        "import random\n",
        "random.seed(0)\n",
        "\n",
        "num_samples = 300_000\n",
        "num_samples = min(num_samples, len(train_sentences_src))\n",
        "\n",
        "indices = list(range(len(train_sentences_src)))\n",
        "print(len(indices))\n",
        "sampled_indices = random.sample(indices, num_samples)\n",
        "\n",
        "new_train_sentences_src = [train_sentences_src[i] for i in sampled_indices]\n",
        "new_train_sentences_dst = [train_sentences_dst[i] for i in sampled_indices]\n",
        "\n",
        "# Subsample dev data\n",
        "\n",
        "num_dev_samples = 2_000\n",
        "num_samples = min(num_dev_samples, len(train_sentences_src)-num_samples)\n",
        "\n",
        "sampled_indices = set(sampled_indices)\n",
        "indices = [i for i in range(len(train_sentences_src)) if i not in sampled_indices]\n",
        "print(len(indices))\n",
        "sampled_indices = random.sample(indices, num_samples)\n",
        "\n",
        "new_dev_sentences_src = [train_sentences_src[i] for i in sampled_indices]\n",
        "new_dev_sentences_dst = [train_sentences_dst[i] for i in sampled_indices]"
      ],
      "metadata": {
        "id": "0b9fUVDIKcaT"
      },
      "execution_count": null,
      "outputs": []
    },
    {
      "cell_type": "code",
      "source": [
        "with open(f'{FULL_DATA_DIR}/train.eng', 'w', encoding=\"utf8\") as file:\n",
        "    for sentence in new_train_sentences_src:\n",
        "        file.write(sentence + '\\n')\n",
        "\n",
        "with open(f'{FULL_DATA_DIR}/train.deu', 'w', encoding=\"utf8\") as file:\n",
        "    for sentence in new_train_sentences_dst:\n",
        "        file.write(sentence + '\\n')\n",
        "\n",
        "\n",
        "with open(f'{FULL_DATA_DIR}/dev.eng', 'w', encoding=\"utf8\") as file:\n",
        "    for sentence in new_dev_sentences_src:\n",
        "        file.write(sentence + '\\n')\n",
        "\n",
        "with open(f'{FULL_DATA_DIR}/dev.deu', 'w', encoding=\"utf8\") as file:\n",
        "    for sentence in new_dev_sentences_dst:\n",
        "        file.write(sentence + '\\n')"
      ],
      "metadata": {
        "id": "hEDIdul7PE3d"
      },
      "execution_count": null,
      "outputs": []
    },
    {
      "cell_type": "markdown",
      "source": [
        "## End\n",
        "\n",
        "If in Google Colab, kill the session:"
      ],
      "metadata": {
        "id": "jCMH9vgMcMHp"
      }
    },
    {
      "cell_type": "code",
      "source": [
        "if IN_COLAB:\n",
        "    import time\n",
        "    time.sleep(15)\n",
        "\n",
        "    from google.colab import runtime\n",
        "    runtime.unassign()"
      ],
      "metadata": {
        "id": "BJtblMo0z2Rv"
      },
      "execution_count": null,
      "outputs": []
    },
    {
      "cell_type": "code",
      "source": [],
      "metadata": {
        "id": "5biKyhRauiH_"
      },
      "execution_count": null,
      "outputs": []
    }
  ]
}