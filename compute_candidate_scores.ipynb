{
  "nbformat": 4,
  "nbformat_minor": 0,
  "metadata": {
    "colab": {
      "provenance": [],
      "gpuType": "T4"
    },
    "kernelspec": {
      "name": "python3",
      "display_name": "Python 3"
    },
    "language_info": {
      "name": "python"
    },
    "accelerator": "GPU"
  },
  "cells": [
    {
      "cell_type": "markdown",
      "source": [
        "# BLEURT computation for the train dataset"
      ],
      "metadata": {
        "id": "o2IbfPPpdZGk"
      }
    },
    {
      "cell_type": "markdown",
      "source": [
        "## Set-up"
      ],
      "metadata": {
        "id": "lhXG_Sl4dhnx"
      }
    },
    {
      "cell_type": "code",
      "source": [
        "DATA_DIR = \"data\""
      ],
      "metadata": {
        "id": "WiidhCRlFOc6"
      },
      "execution_count": null,
      "outputs": []
    },
    {
      "cell_type": "code",
      "source": [
        "try:\n",
        "    import google.colab\n",
        "    from google.colab import drive\n",
        "    drive.mount('/content/drive')\n",
        "    FULL_DATA_DIR = f'/content/drive/My Drive/mbr-reranking/{DATA_DIR}'\n",
        "\n",
        "    IN_COLAB = True\n",
        "except:\n",
        "    FULL_DATA_DIR = DATA_DIR\n",
        "\n",
        "    IN_COLAB = False"
      ],
      "metadata": {
        "id": "27yHDXF6FRjP"
      },
      "execution_count": null,
      "outputs": []
    },
    {
      "cell_type": "code",
      "source": [
        "!pip install evaluate\n",
        "!pip install git+https://github.com/google-research/bleurt.git"
      ],
      "metadata": {
        "id": "FipZlZx6DlAe"
      },
      "execution_count": null,
      "outputs": []
    },
    {
      "cell_type": "code",
      "execution_count": null,
      "metadata": {
        "id": "SEDHfc03DhCd"
      },
      "outputs": [],
      "source": [
        "import evaluate\n",
        "bleurt = evaluate.load('bleurt')"
      ]
    },
    {
      "cell_type": "markdown",
      "source": [
        "## Dataset"
      ],
      "metadata": {
        "id": "Hgp77d0Ndj_7"
      }
    },
    {
      "cell_type": "code",
      "source": [
        "reference_sentences = []\n",
        "generated_sentences = []\n",
        "\n",
        "with open(f\"{FULL_DATA_DIR}/train.eng\", 'r') as fp:\n",
        "    for line in fp:\n",
        "        reference_sentences.append(line.strip())\n",
        "\n",
        "with open(f\"{FULL_DATA_DIR}/sampled/train.eng\", 'r') as fp:\n",
        "    for line in fp:\n",
        "        generated_sentences.append(line.strip())\n",
        "\n",
        "import json\n",
        "\n",
        "with open(f\"{FULL_DATA_DIR}/sampled/train.info.json\", 'r') as f:\n",
        "    metadata = json.load(f)\n",
        "\n",
        "    samples_per_sentence = metadata[\"samples_per_sentence\"]\n",
        "\n",
        "    num_different_sentences = len(reference_sentences) // samples_per_sentence\n",
        "\n",
        "    reference_sentences = [reference_sentences[i // samples_per_sentence] for i in range(len(generated_sentences))]"
      ],
      "metadata": {
        "id": "3zsfslyjEJZn"
      },
      "execution_count": null,
      "outputs": []
    },
    {
      "cell_type": "markdown",
      "source": [
        "## Computing BLEURT"
      ],
      "metadata": {
        "id": "_Ar35MJwdlcR"
      }
    },
    {
      "cell_type": "code",
      "source": [
        "%%time\n",
        "scores = bleurt.compute(predictions=generated_sentences, references=reference_sentences)\n",
        "import numpy as np\n",
        "with open(f\"{FULL_DATA_DIR}/sampled/train.scores\", 'wb') as f:\n",
        "    np.save(f, np.array(scores[\"scores\"]))"
      ],
      "metadata": {
        "id": "WIczGS9tFJ2D"
      },
      "execution_count": null,
      "outputs": []
    },
    {
      "cell_type": "markdown",
      "source": [
        "## End"
      ],
      "metadata": {
        "id": "Nl953WKRdnaA"
      }
    },
    {
      "cell_type": "markdown",
      "source": [
        "If in Google Colab, kill the session:"
      ],
      "metadata": {
        "id": "e5IxA5S5dqAD"
      }
    },
    {
      "cell_type": "code",
      "source": [
        "if IN_COLAB:\n",
        "    import time\n",
        "    time.sleep(15)\n",
        "\n",
        "    from google.colab import runtime\n",
        "    runtime.unassign()"
      ],
      "metadata": {
        "id": "vxZGeK58Xqpd"
      },
      "execution_count": null,
      "outputs": []
    },
    {
      "cell_type": "code",
      "source": [],
      "metadata": {
        "id": "ub1hndMnXtLY"
      },
      "execution_count": null,
      "outputs": []
    }
  ]
}